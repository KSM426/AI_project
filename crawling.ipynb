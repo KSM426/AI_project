{
 "cells": [
  {
   "cell_type": "code",
   "execution_count": 24,
   "metadata": {},
   "outputs": [],
   "source": [
    "import time\n",
    "from selenium import webdriver\n",
    "from selenium.webdriver.chrome.service import Service\n",
    "from selenium.webdriver.common.by import By\n",
    "from selenium.webdriver.support.ui import WebDriverWait\n",
    "from selenium.webdriver.support import expected_conditions as EC\n",
    "from selenium.webdriver.firefox.options import Options\n",
    "import pandas as pd\n",
    "import pickle"
   ]
  },
  {
   "cell_type": "code",
   "execution_count": 25,
   "metadata": {},
   "outputs": [],
   "source": [
    "path = \"C:/webdriver/geckodriver.exe\"\n",
    "\n",
    "# option = Options()\n",
    "# option.add_argument('--headless')\n",
    "\n",
    "# driver = webdriver.Firefox(executable_path=path, options=option)\n",
    "driver = webdriver.Firefox(executable_path=path)\n",
    "wait = WebDriverWait(driver, 10)"
   ]
  },
  {
   "cell_type": "code",
   "execution_count": 26,
   "metadata": {},
   "outputs": [
    {
     "name": "stdout",
     "output_type": "stream",
     "text": [
      "33133\n",
      "33134\n",
      "33135\n",
      "33136\n",
      "33137\n",
      "33138\n",
      "33139\n",
      "33140\n",
      "33141\n",
      "33142\n",
      "33143\n",
      "33144\n",
      "33145\n",
      "33146\n",
      "33147\n",
      "33148\n",
      "33149\n",
      "33150\n",
      "33151\n",
      "33152\n",
      "33153\n"
     ]
    }
   ],
   "source": [
    "#diamond\n",
    "Data_player = []\n",
    "page = 33133\n",
    "for i in range(page, page+21):\n",
    "    url = \"https://www.op.gg/leaderboards/tier?page=\" + str(i)\n",
    "    driver.get(url)\n",
    "    driver.implicitly_wait(time_to_wait=1000)   \n",
    "    \n",
    "    player_ranking = driver.find_elements(By.CLASS_NAME, \"css-qxm8fg\")\n",
    "    player_tier = driver.find_elements(By.CLASS_NAME, \"css-19cytme\")\n",
    "    player_name = driver.find_elements(By.CLASS_NAME, \"css-1o7px7u\")\n",
    "    print(i)\n",
    "    \n",
    "    for name,tier,ranking in zip(player_name, player_tier, player_ranking):\n",
    "        Data_player.append([ranking.text, name.text, tier.text])\n",
    "        \n",
    "df = pd.DataFrame(Data_player, columns=[\"Ranking\", \"Name\", \"Tier\"])\n",
    "\n",
    "with open(\"Iron_4.pickle\", \"wb\") as f:\n",
    "    pickle.dump(df, f)"
   ]
  },
  {
   "cell_type": "code",
   "execution_count": 27,
   "metadata": {},
   "outputs": [
    {
     "data": {
      "text/plain": [
       "'Data_player = []\\n#  3,250,178 좀 많다.\\nfor i in range(1, 32499, ):\\n    url = \"https://www.op.gg/leaderboards/tier?page=\" + str(i)\\n    driver.get(url)\\n    driver.implicitly_wait(time_to_wait=1000)\\n    \\n    player_ranking = driver.find_elements(By.CLASS_NAME, \"css-qxm8fg\")\\n    player_tier = driver.find_elements(By.CLASS_NAME, \"css-19cytme\")\\n    player_name = driver.find_elements(By.CLASS_NAME, \"summoner-name\")\\n    \\n    for name,tier,ranking in zip(player_name, player_tier, player_ranking):\\n        Data_player.append([ranking.text, name.text, tier.text])'"
      ]
     },
     "execution_count": 27,
     "metadata": {},
     "output_type": "execute_result"
    }
   ],
   "source": [
    "'''Data_player = []\n",
    "#  3,250,178 좀 많다.\n",
    "for i in range(1, 32499, ):\n",
    "    url = \"https://www.op.gg/leaderboards/tier?page=\" + str(i)\n",
    "    driver.get(url)\n",
    "    driver.implicitly_wait(time_to_wait=1000)\n",
    "    \n",
    "    player_ranking = driver.find_elements(By.CLASS_NAME, \"css-qxm8fg\")\n",
    "    player_tier = driver.find_elements(By.CLASS_NAME, \"css-19cytme\")\n",
    "    player_name = driver.find_elements(By.CLASS_NAME, \"summoner-name\")\n",
    "    \n",
    "    for name,tier,ranking in zip(player_name, player_tier, player_ranking):\n",
    "        Data_player.append([ranking.text, name.text, tier.text])'''"
   ]
  },
  {
   "cell_type": "code",
   "execution_count": 28,
   "metadata": {},
   "outputs": [],
   "source": [
    "driver.quit()"
   ]
  }
 ],
 "metadata": {
  "kernelspec": {
   "display_name": "gshs",
   "language": "python",
   "name": "python3"
  },
  "language_info": {
   "codemirror_mode": {
    "name": "ipython",
    "version": 3
   },
   "file_extension": ".py",
   "mimetype": "text/x-python",
   "name": "python",
   "nbconvert_exporter": "python",
   "pygments_lexer": "ipython3",
   "version": "3.10.4"
  }
 },
 "nbformat": 4,
 "nbformat_minor": 2
}
